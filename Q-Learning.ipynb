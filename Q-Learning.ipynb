{
 "cells": [
  {
   "cell_type": "markdown",
   "metadata": {},
   "source": [
    "## Q-Learning\n",
    "\n",
    "The following code is a implementation of the course provided by [Morvan Zhou](https://github.com/MorvanZhou/Reinforcement-learning-with-tensorflow.git)"
   ]
  },
  {
   "cell_type": "code",
   "execution_count": 33,
   "metadata": {
    "collapsed": true
   },
   "outputs": [],
   "source": [
    "import numpy as np\n",
    "import pandas as pd\n",
    "import time\n",
    "import math"
   ]
  },
  {
   "cell_type": "code",
   "execution_count": 83,
   "metadata": {
    "collapsed": true
   },
   "outputs": [],
   "source": [
    "np.random.seed(2)\n",
    "N_STATES=6\n",
    "ACTIONS=['left','right']\n",
    "EPSILON=0.9\n",
    "ALPHA=.1 # Learning Rate\n",
    "GAMMA=.9\n",
    "MAX_EPISODES=13\n",
    "FRESH_TIME=.3"
   ]
  },
  {
   "cell_type": "code",
   "execution_count": 35,
   "metadata": {
    "collapsed": true
   },
   "outputs": [],
   "source": [
    "def build_q_table(n_states,actions):\n",
    "    table=pd.DataFrame(np.zeros((n_states,len(actions))),columns=actions)\n",
    "    return table"
   ]
  },
  {
   "cell_type": "code",
   "execution_count": 69,
   "metadata": {
    "collapsed": false
   },
   "outputs": [],
   "source": [
    "def choose_action(state,q_table):\n",
    "    state_transfer=q_table.iloc[state,:]\n",
    "    if np.random.uniform()>EPSILON or state_transfer.all()==0:\n",
    "        action=np.random.choice(ACTIONS)\n",
    "    else:\n",
    "        action=state_transfer.idxmax()\n",
    "    return action"
   ]
  },
  {
   "cell_type": "code",
   "execution_count": 54,
   "metadata": {
    "collapsed": false
   },
   "outputs": [],
   "source": [
    "def update(state,action):\n",
    "    if action=='left':\n",
    "        next_state=max(0,state-1)\n",
    "    else:\n",
    "        next_state=state+1\n",
    "    return next_state"
   ]
  },
  {
   "cell_type": "code",
   "execution_count": 74,
   "metadata": {
    "collapsed": true
   },
   "outputs": [],
   "source": [
    "def update_env(state,episode,steps):\n",
    "    env_list=['-']*(N_STATES-1)+['T']\n",
    "    if state==5:\n",
    "        interaction = 'Episode %s: total_steps = %s' % (episode+1, steps)\n",
    "        print('\\r{}'.format(interaction))\n",
    "        print('\\r')\n",
    "    else:\n",
    "        env_list[state]='o'\n",
    "        print('\\r{}'.format(''.join(env_list)))"
   ]
  },
  {
   "cell_type": "code",
   "execution_count": 82,
   "metadata": {
    "collapsed": true
   },
   "outputs": [],
   "source": [
    "def reinformance_learning():\n",
    "    q_table=build_q_table(N_STATES,ACTIONS)\n",
    "    for i in range(MAX_EPISODES):\n",
    "        state=0\n",
    "        steps=0\n",
    "        is_terminate=False\n",
    "        update_env(state,i,steps)\n",
    "        while not is_terminate:\n",
    "            action=choose_action(state,q_table)\n",
    "            next_state=update(state,action)\n",
    "            q_pred=q_table.loc[state,action]\n",
    "            if next_state==5:\n",
    "                q_target=1\n",
    "                is_terminate=True\n",
    "            else:\n",
    "                q_target=GAMMA*q_table.iloc[next_state,:].max()\n",
    "            val=ALPHA*(q_target-q_pred)\n",
    "            q_table.loc[state,action]+=val\n",
    "#             print q_table\n",
    "            state=next_state\n",
    "            steps+=1\n",
    "            update_env(state,i,steps)\n",
    "    return q_table"
   ]
  },
  {
   "cell_type": "code",
   "execution_count": 84,
   "metadata": {
    "collapsed": false
   },
   "outputs": [
    {
     "name": "stdout",
     "output_type": "stream",
     "text": [
      "o----T\n",
      "-o---T\n",
      "--o--T\n",
      "-o---T\n",
      "--o--T\n",
      "---o-T\n",
      "----oT\n",
      "---o-T\n",
      "----oT\n",
      "---o-T\n",
      "----oT\n",
      "---o-T\n",
      "--o--T\n",
      "---o-T\n",
      "--o--T\n",
      "---o-T\n",
      "--o--T\n",
      "-o---T\n",
      "o----T\n",
      "-o---T\n",
      "--o--T\n",
      "-o---T\n",
      "--o--T\n",
      "-o---T\n",
      "o----T\n",
      "-o---T\n",
      "--o--T\n",
      "-o---T\n",
      "o----T\n",
      "o----T\n",
      "o----T\n",
      "o----T\n",
      "-o---T\n",
      "o----T\n",
      "-o---T\n",
      "--o--T\n",
      "---o-T\n",
      "----oT\n",
      "Episode 1: total_steps = 38\n",
      "\n",
      "o----T\n",
      "o----T\n",
      "-o---T\n",
      "o----T\n",
      "-o---T\n",
      "o----T\n",
      "-o---T\n",
      "--o--T\n",
      "-o---T\n",
      "--o--T\n",
      "-o---T\n",
      "--o--T\n",
      "---o-T\n",
      "--o--T\n",
      "-o---T\n",
      "--o--T\n",
      "-o---T\n",
      "o----T\n",
      "-o---T\n",
      "--o--T\n",
      "---o-T\n",
      "----oT\n",
      "Episode 2: total_steps = 22\n",
      "\n",
      "o----T\n",
      "-o---T\n",
      "o----T\n",
      "-o---T\n",
      "o----T\n",
      "-o---T\n",
      "--o--T\n",
      "---o-T\n",
      "----oT\n",
      "Episode 3: total_steps = 9\n",
      "\n",
      "o----T\n",
      "-o---T\n",
      "--o--T\n",
      "---o-T\n",
      "----oT\n",
      "Episode 4: total_steps = 5\n",
      "\n",
      "o----T\n",
      "-o---T\n",
      "--o--T\n",
      "-o---T\n",
      "--o--T\n",
      "---o-T\n",
      "----oT\n",
      "Episode 5: total_steps = 7\n",
      "\n",
      "o----T\n",
      "-o---T\n",
      "--o--T\n",
      "---o-T\n",
      "----oT\n",
      "Episode 6: total_steps = 5\n",
      "\n",
      "o----T\n",
      "-o---T\n",
      "--o--T\n",
      "---o-T\n",
      "----oT\n",
      "Episode 7: total_steps = 5\n",
      "\n",
      "o----T\n",
      "-o---T\n",
      "--o--T\n",
      "---o-T\n",
      "----oT\n",
      "Episode 8: total_steps = 5\n",
      "\n",
      "o----T\n",
      "-o---T\n",
      "--o--T\n",
      "---o-T\n",
      "----oT\n",
      "Episode 9: total_steps = 5\n",
      "\n",
      "o----T\n",
      "-o---T\n",
      "--o--T\n",
      "---o-T\n",
      "----oT\n",
      "Episode 10: total_steps = 5\n",
      "\n",
      "o----T\n",
      "-o---T\n",
      "--o--T\n",
      "---o-T\n",
      "----oT\n",
      "Episode 11: total_steps = 5\n",
      "\n",
      "o----T\n",
      "-o---T\n",
      "--o--T\n",
      "---o-T\n",
      "----oT\n",
      "---o-T\n",
      "----oT\n",
      "Episode 12: total_steps = 7\n",
      "\n",
      "o----T\n",
      "-o---T\n",
      "--o--T\n",
      "---o-T\n",
      "----oT\n",
      "Episode 13: total_steps = 5\n",
      "\n",
      "       left     right\n",
      "0  0.000000  0.004320\n",
      "1  0.000000  0.025005\n",
      "2  0.000030  0.111241\n",
      "3  0.000000  0.368750\n",
      "4  0.027621  0.745813\n",
      "5  0.000000  0.000000\n"
     ]
    }
   ],
   "source": [
    "q_table=reinformance_learning()\n",
    "print(q_table)"
   ]
  }
 ],
 "metadata": {
  "kernelspec": {
   "display_name": "Python 2",
   "language": "python",
   "name": "python2"
  },
  "language_info": {
   "codemirror_mode": {
    "name": "ipython",
    "version": 2
   },
   "file_extension": ".py",
   "mimetype": "text/x-python",
   "name": "python",
   "nbconvert_exporter": "python",
   "pygments_lexer": "ipython2",
   "version": "2.7.12"
  }
 },
 "nbformat": 4,
 "nbformat_minor": 2
}
